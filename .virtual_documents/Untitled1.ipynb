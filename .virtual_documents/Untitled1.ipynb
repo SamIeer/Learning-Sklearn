import numpy as np
import pandas as pd


df = pd.read_csv("housing.csv")


df['income_cat'] = pd.cut(df['median_income'], bins = [0, 1.5, 3.0, 4.5, 6.0, np.inf], labels=[1,2,3,4,5])


from sklearn.model_selection import StratifiedShuffleSplit
split = StratifiedShuffleSplit(n_splits=1, test_size=0.2, random_state=42)
for train_index, test_index in split.split(df,df['income_cat']):
    strat_train_set = df.loc[train_index]
    strat_test_set = df.loc[test_index]


#Lets remove the income_cat column
for sett in (strat_train_set, strat_test_set):
    sett.drop("income_cat", axis=1, inplace=True)


df = strat_train_set.copy()


df


housing = strat_train_set.drop("median_house_value",axis=1)
housing_labels = strat_train_set["median_house_value"].copy()


housing 


from sklearn.pipeline import Pipeline
from sklearn.impute import SimpleImputer
from sklearn.preprocessing import StandardScaler


my_pipeline = Pipeline([
    ("impute", SimpleImputer(strategy="median")),
    ("standardize",StandardScaler()),
])


my_pipeline.fit_transform(housing)



